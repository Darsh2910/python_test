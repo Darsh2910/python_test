{
  "nbformat": 4,
  "nbformat_minor": 0,
  "metadata": {
    "colab": {
      "provenance": [],
      "authorship_tag": "ABX9TyPu8VK41f6jkIUYUbm9vgRq",
      "include_colab_link": true
    },
    "kernelspec": {
      "name": "python3",
      "display_name": "Python 3"
    },
    "language_info": {
      "name": "python"
    }
  },
  "cells": [
    {
      "cell_type": "markdown",
      "metadata": {
        "id": "view-in-github",
        "colab_type": "text"
      },
      "source": [
        "<a href=\"https://colab.research.google.com/github/Darsh2910/python_test/blob/main/Missionary_Cannibals.ipynb\" target=\"_parent\"><img src=\"https://colab.research.google.com/assets/colab-badge.svg\" alt=\"Open In Colab\"/></a>"
      ]
    },
    {
      "cell_type": "code",
      "execution_count": null,
      "metadata": {
        "id": "vL6i18U-j-Xy",
        "outputId": "1f47c13e-3cd7-455c-df1d-c763305d070b",
        "colab": {
          "base_uri": "https://localhost:8080/"
        }
      },
      "outputs": [
        {
          "output_type": "stream",
          "name": "stdout",
          "text": [
            "  🌊🌊🌊🌊 🚢 💂💂💂 👹👹👹\n"
          ]
        }
      ],
      "source": [
        "from IPython.display import clear_output\n",
        "boat_side= 'right'\n",
        "missionaries_on_right = 3\n",
        "canibals_on_right = 3\n",
        "missionaries_on_left = 0\n",
        "canibals_on_left = 0\n",
        "\n",
        "print('\\U0001f482'* missionaries_on_left,'\\U0001f479'* canibals_on_left, '\\U0001f30a'*4,'\\U0001f6A2',   '\\U0001f482'* missionaries_on_right,'\\U0001f479'* canibals_on_right)\n",
        "while True:\n",
        "  missionaries=int(input('Enter no. of Missionary= '))\n",
        "  cannibals =int(input('Enter no. of Cannibals= '))\n",
        "  clear_output()\n",
        "  if missionaries + cannibals>2 or missionaries + cannibals<1 :\n",
        "    print('Invalid move 1')\n",
        "    continue\n",
        "  else:\n",
        "    if boat_side == 'right' :\n",
        "      print('boat is on right side')\n",
        "      if (missionaries>missionaries_on_right) or (cannibals>canibals_on_right):\n",
        "        print('invalid move 2')\n",
        "        continue\n",
        "      else:\n",
        "        missionaries_on_right -= missionaries\n",
        "        canibals_on_right = canibals_on_right-cannibals\n",
        "        missionaries_on_left += missionaries\n",
        "        canibals_on_left += cannibals\n",
        "        print('\\U0001f482' *missionaries_on_left,'\\U0001f479' *canibals_on_left,'\\U0001f6A2','\\U0001f30a'*4, '\\U0001f482'* missionaries_on_right,'\\U0001f479'*canibals_on_right)\n",
        "        boat_side = 'left'\n",
        "        if (missionaries_on_right< canibals_on_right) and (missionaries_on_right>0):\n",
        "          print('You lose')\n",
        "          break\n",
        "        if (missionaries_on_left< canibals_on_left) and (missionaries_on_left>0):\n",
        "          print('You lose')\n",
        "          break\n",
        "        if (missionaries_on_left==3) and (canibals_on_left == 3):\n",
        "          print('You Win')\n",
        "          break\n",
        "        continue\n",
        "    elif boat_side =='left':\n",
        "      print('Boat is on left side')\n",
        "      if (missionaries>missionaries_on_left) or (cannibals>canibals_on_left):\n",
        "        print('invalid move 2')\n",
        "        continue\n",
        "      else:\n",
        "        missionaries_on_right += missionaries\n",
        "        canibals_on_right += cannibals\n",
        "        missionaries_on_left -= missionaries\n",
        "        canibals_on_left -= cannibals\n",
        "        print('\\U0001f482'*missionaries_on_left,'\\U0001f479'*canibals_on_left, '\\U0001f30a'*4,'\\U0001f6A2', '\\U0001f482'*missionaries_on_right,'\\U0001f479'*canibals_on_right)\n",
        "        boat_side= 'right'\n",
        "        if (missionaries_on_right< canibals_on_right) and (missionaries_on_right>0):\n",
        "          print('You lose')\n",
        "          break\n",
        "        if (missionaries_on_left< canibals_on_left) and (missionaries_on_left>0):\n",
        "          print('You lose')\n",
        "          break\n",
        "        if (missionaries_on_left==3) and (canibals_on_left == 3):\n",
        "          print('You Win')\n",
        "          break\n",
        "\n",
        "\n",
        "\n",
        "\n",
        "\n"
      ]
    }
  ]
}