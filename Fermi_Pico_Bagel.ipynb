{
  "nbformat": 4,
  "nbformat_minor": 0,
  "metadata": {
    "colab": {
      "provenance": [],
      "authorship_tag": "ABX9TyOD5/WEocFWvEtOKepeOs6v",
      "include_colab_link": true
    },
    "kernelspec": {
      "name": "python3",
      "display_name": "Python 3"
    },
    "language_info": {
      "name": "python"
    }
  },
  "cells": [
    {
      "cell_type": "markdown",
      "metadata": {
        "id": "view-in-github",
        "colab_type": "text"
      },
      "source": [
        "<a href=\"https://colab.research.google.com/github/Darsh2910/python_test/blob/main/Fermi_Pico_Bagel.ipynb\" target=\"_parent\"><img src=\"https://colab.research.google.com/assets/colab-badge.svg\" alt=\"Open In Colab\"/></a>"
      ]
    },
    {
      "cell_type": "code",
      "execution_count": 1,
      "metadata": {
        "colab": {
          "base_uri": "https://localhost:8080/"
        },
        "id": "068eVLCfixak",
        "outputId": "e5f2e031-9068-4dea-cc86-56e195861991"
      },
      "outputs": [
        {
          "output_type": "stream",
          "name": "stdout",
          "text": [
            "Enter your guess: 123\n",
            "Pico\n",
            "Enter your guess: 321\n",
            "Fermi\n",
            "Enter your guess: 305\n",
            "Fermi Fermi\n",
            "Enter your guess: 345\n",
            "Fermi Fermi Fermi \n",
            "You win!!\n"
          ]
        }
      ],
      "source": [
        "original_number = '345'\n",
        "\n",
        "\n",
        "while True:\n",
        "    guess_number = input(\"Enter your guess: \")\n",
        "\n",
        "\n",
        "    if len(original_number) != len(guess_number):\n",
        "        print(\"Please enter a valid guess with\", len(original_number), \"digits.\")\n",
        "        continue\n",
        "\n",
        "\n",
        "    if len(set(guess_number)) != len(guess_number):\n",
        "        print(\"Duplicate number\")\n",
        "        continue\n",
        "\n",
        "\n",
        "    if original_number == guess_number:\n",
        "        print('Fermi ' * len(original_number))\n",
        "        print(\"You win!!\")\n",
        "        break\n",
        "\n",
        "\n",
        "    output = []\n",
        "\n",
        "\n",
        "    for i in range(len(original_number)):\n",
        "        if guess_number[i] == original_number[i]:\n",
        "            output.append('Fermi')\n",
        "        elif guess_number[i] in original_number:\n",
        "            output.append('Pico')\n",
        "\n",
        "\n",
        "    output_string = ' '.join(output)\n",
        "\n",
        "\n",
        "    if not output:\n",
        "        print(\"Bagel\")\n",
        "    else:\n",
        "        print(output_string)\n"
      ]
    }
  ]
}